{
 "cells": [
  {
   "cell_type": "code",
   "execution_count": null,
   "metadata": {},
   "outputs": [],
   "source": [
    "import tiny_ball_detector as tbd\n",
    "\n",
    "\n",
    "tbd.models"
   ]
  },
  {
   "cell_type": "code",
   "execution_count": null,
   "metadata": {},
   "outputs": [],
   "source": [
    "import numpy as np\n",
    "import matplotlib.pyplot as plt\n",
    "import tensorflow as tf\n",
    "\n",
    "\n",
    "def gaussian_kernel(size, variance):\n",
    "    x, y = tf.meshgrid(\n",
    "        tf.range(-size, size + 1, dtype=tf.float32),\n",
    "        tf.range(-size, size + 1, dtype=tf.float32),\n",
    "    )\n",
    "    g = tf.exp(-(x**2 + y**2) / float(2 * variance))\n",
    "    return g\n",
    "\n",
    "\n",
    "def create_gaussian(size, variance):\n",
    "    gaussian_kernel_array = gaussian_kernel(size, variance)\n",
    "    gaussian_kernel_array = gaussian_kernel_array * 255\n",
    "    gaussian_kernel_array = tf.cast(gaussian_kernel_array, dtype=tf.uint8)\n",
    "    return gaussian_kernel_array\n",
    "\n",
    "\n",
    "print(create_gaussian(5, 1))\n",
    "plt.imshow(create_gaussian(5, 1), cmap=\"hot\", interpolation=\"nearest\")"
   ]
  },
  {
   "cell_type": "code",
   "execution_count": 1,
   "metadata": {},
   "outputs": [],
   "source": [
    "%load_ext autoreload\n",
    "%autoreload 1"
   ]
  },
  {
   "cell_type": "code",
   "execution_count": 3,
   "metadata": {},
   "outputs": [],
   "source": [
    "import os\n",
    "import tensorflow as tf"
   ]
  },
  {
   "cell_type": "code",
   "execution_count": 1,
   "metadata": {},
   "outputs": [
    {
     "name": "stderr",
     "output_type": "stream",
     "text": [
      "2025-02-16 15:27:44.678497: I tensorflow/core/util/port.cc:153] oneDNN custom operations are on. You may see slightly different numerical results due to floating-point round-off errors from different computation orders. To turn them off, set the environment variable `TF_ENABLE_ONEDNN_OPTS=0`.\n",
      "2025-02-16 15:27:44.686502: E external/local_xla/xla/stream_executor/cuda/cuda_fft.cc:477] Unable to register cuFFT factory: Attempting to register factory for plugin cuFFT when one has already been registered\n",
      "WARNING: All log messages before absl::InitializeLog() is called are written to STDERR\n",
      "E0000 00:00:1739716064.696217   68614 cuda_dnn.cc:8310] Unable to register cuDNN factory: Attempting to register factory for plugin cuDNN when one has already been registered\n",
      "E0000 00:00:1739716064.698943   68614 cuda_blas.cc:1418] Unable to register cuBLAS factory: Attempting to register factory for plugin cuBLAS when one has already been registered\n",
      "2025-02-16 15:27:44.708958: I tensorflow/core/platform/cpu_feature_guard.cc:210] This TensorFlow binary is optimized to use available CPU instructions in performance-critical operations.\n",
      "To enable the following instructions: AVX2 AVX_VNNI FMA, in other operations, rebuild TensorFlow with the appropriate compiler flags.\n"
     ]
    }
   ],
   "source": [
    "from logging import DEBUG\n",
    "import logging\n",
    "from pathlib import Path\n",
    "from tiny_ball_detector.dataset.tracknet_dataset import TrackNetDataset\n",
    "\n",
    "logger = logging.getLogger(\"FrameGeneratorLogger\")\n",
    "\n",
    "trackNetDataset = TrackNetDataset(\n",
    "    path=Path(\"../data/tennis\"), n_frames=3, logger=logger\n",
    ")"
   ]
  },
  {
   "cell_type": "code",
   "execution_count": 2,
   "metadata": {},
   "outputs": [
    {
     "name": "stdout",
     "output_type": "stream",
     "text": [
      "WARNING:tensorflow:From /home/gaetan/iris/tiny-ball-detector/src/tiny_ball_detector/dataset/tracknet_dataset.py:112: calling DatasetV2.from_generator (from tensorflow.python.data.ops.dataset_ops) with output_types is deprecated and will be removed in a future version.\n",
      "Instructions for updating:\n",
      "Use output_signature instead\n",
      "WARNING:tensorflow:From /home/gaetan/iris/tiny-ball-detector/src/tiny_ball_detector/dataset/tracknet_dataset.py:112: calling DatasetV2.from_generator (from tensorflow.python.data.ops.dataset_ops) with output_shapes is deprecated and will be removed in a future version.\n",
      "Instructions for updating:\n",
      "Use output_signature instead\n"
     ]
    },
    {
     "name": "stderr",
     "output_type": "stream",
     "text": [
      "I0000 00:00:1739711192.237461   56353 gpu_device.cc:2022] Created device /job:localhost/replica:0/task:0/device:GPU:0 with 9579 MB memory:  -> device: 0, name: NVIDIA GeForce RTX 3080 Ti, pci bus id: 0000:05:00.0, compute capability: 8.6\n"
     ]
    },
    {
     "data": {
      "text/plain": [
       "<_FlatMapDataset element_spec=(TensorSpec(shape=(3, 720, 1280, 3), dtype=tf.float32, name=None), TensorSpec(shape=(3, 720, 1280, 1), dtype=tf.float32, name=None))>"
      ]
     },
     "execution_count": 2,
     "metadata": {},
     "output_type": "execute_result"
    }
   ],
   "source": [
    "trackNetDataset.dataset"
   ]
  },
  {
   "cell_type": "code",
   "execution_count": 3,
   "metadata": {},
   "outputs": [
    {
     "name": "stderr",
     "output_type": "stream",
     "text": [
      "📌 Number of clips found: 95\n",
      "2025-02-16 14:06:34.647969: I tensorflow/core/framework/local_rendezvous.cc:405] Local rendezvous is aborting with status: OUT_OF_RANGE: End of sequence\n"
     ]
    }
   ],
   "source": [
    "import matplotlib.pyplot as plt\n",
    "import numpy as np\n",
    "from PIL import Image\n",
    "\n",
    "images = []\n",
    "for i in trackNetDataset.dataset.take(50).unbatch():\n",
    "    rgb_pil = Image.fromarray(i[0].numpy().astype(np.uint8))\n",
    "    grayscale_pil = Image.fromarray(i[1].numpy().astype(np.uint8).squeeze(), mode=\"L\")\n",
    "\n",
    "    rgb_pil = rgb_pil.convert(\"RGBA\")\n",
    "    grayscale_pil = grayscale_pil.convert(\"RGBA\")\n",
    "    alpha = 170  # Transparence (0 = totalement transparent, 255 = opaque)\n",
    "    grayscale_pil.putalpha(alpha)\n",
    "\n",
    "    combined = Image.alpha_composite(rgb_pil, grayscale_pil)\n",
    "    images.append(combined)\n",
    "\n",
    "images[0].save(\n",
    "    \"animated.gif\", save_all=True, append_images=images[1:], duration=20, loop=0\n",
    ")"
   ]
  },
  {
   "cell_type": "code",
   "execution_count": 2,
   "metadata": {},
   "outputs": [
    {
     "name": "stderr",
     "output_type": "stream",
     "text": [
      "📌 Number of clips found: 95\n",
      "I0000 00:00:1739709855.555333   46904 gpu_device.cc:2022] Created device /job:localhost/replica:0/task:0/device:GPU:0 with 9645 MB memory:  -> device: 0, name: NVIDIA GeForce RTX 3080 Ti, pci bus id: 0000:05:00.0, compute capability: 8.6\n"
     ]
    },
    {
     "name": "stdout",
     "output_type": "stream",
     "text": [
      "WARNING:tensorflow:From /home/gaetan/.cache/pypoetry/virtualenvs/tiny-ball-detector-LtrcJND9-py3.12/lib/python3.12/site-packages/tensorflow/python/data/experimental/ops/readers.py:572: ignore_errors (from tensorflow.python.data.experimental.ops.error_ops) is deprecated and will be removed in a future version.\n",
      "Instructions for updating:\n",
      "Use `tf.data.Dataset.ignore_errors` instead.\n"
     ]
    },
    {
     "name": "stderr",
     "output_type": "stream",
     "text": [
      "2025-02-16 13:44:16.182661: I tensorflow/core/framework/local_rendezvous.cc:405] Local rendezvous is aborting with status: OUT_OF_RANGE: End of sequence\n",
      "2025-02-16 13:44:16.461487: I tensorflow/core/framework/local_rendezvous.cc:405] Local rendezvous is aborting with status: OUT_OF_RANGE: End of sequence\n",
      "2025-02-16 13:44:17.085699: I tensorflow/core/framework/local_rendezvous.cc:405] Local rendezvous is aborting with status: OUT_OF_RANGE: End of sequence\n",
      "2025-02-16 13:44:18.529518: I tensorflow/core/framework/local_rendezvous.cc:405] Local rendezvous is aborting with status: OUT_OF_RANGE: End of sequence\n",
      "2025-02-16 13:44:22.423910: I tensorflow/core/framework/local_rendezvous.cc:405] Local rendezvous is aborting with status: OUT_OF_RANGE: End of sequence\n",
      "2025-02-16 13:44:30.802507: I tensorflow/core/framework/local_rendezvous.cc:405] Local rendezvous is aborting with status: OUT_OF_RANGE: End of sequence\n",
      "2025-02-16 13:44:48.086589: I tensorflow/core/framework/local_rendezvous.cc:405] Local rendezvous is aborting with status: OUT_OF_RANGE: End of sequence\n"
     ]
    }
   ],
   "source": [
    "trackNetDataset.make_ground_truth_image()"
   ]
  },
  {
   "cell_type": "code",
   "execution_count": 2,
   "metadata": {},
   "outputs": [
    {
     "name": "stdout",
     "output_type": "stream",
     "text": [
      "WARNING:tensorflow:From /home/gaetan/iris/tiny-ball-detector/src/tiny_ball_detector/dataset/tracknet_dataset.py:112: calling DatasetV2.from_generator (from tensorflow.python.data.ops.dataset_ops) with output_types is deprecated and will be removed in a future version.\n",
      "Instructions for updating:\n",
      "Use output_signature instead\n",
      "WARNING:tensorflow:From /home/gaetan/iris/tiny-ball-detector/src/tiny_ball_detector/dataset/tracknet_dataset.py:112: calling DatasetV2.from_generator (from tensorflow.python.data.ops.dataset_ops) with output_shapes is deprecated and will be removed in a future version.\n",
      "Instructions for updating:\n",
      "Use output_signature instead\n"
     ]
    },
    {
     "name": "stderr",
     "output_type": "stream",
     "text": [
      "I0000 00:00:1739716068.726894   68614 gpu_device.cc:2022] Created device /job:localhost/replica:0/task:0/device:GPU:0 with 9559 MB memory:  -> device: 0, name: NVIDIA GeForce RTX 3080 Ti, pci bus id: 0000:05:00.0, compute capability: 8.6\n",
      "📌 Number of clips found: 95\n"
     ]
    },
    {
     "name": "stdout",
     "output_type": "stream",
     "text": [
      "(720, 1280, 9) (720, 1280, 1)\n",
      "(720, 1280, 9) (720, 1280, 1)\n"
     ]
    },
    {
     "name": "stderr",
     "output_type": "stream",
     "text": [
      "2025-02-16 15:27:49.463436: I tensorflow/core/framework/local_rendezvous.cc:405] Local rendezvous is aborting with status: OUT_OF_RANGE: End of sequence\n"
     ]
    }
   ],
   "source": [
    "for i in trackNetDataset.dataset.take(2):\n",
    "    print(i[0].shape, i[1].shape)"
   ]
  },
  {
   "cell_type": "code",
   "execution_count": 2,
   "metadata": {},
   "outputs": [
    {
     "name": "stderr",
     "output_type": "stream",
     "text": [
      "2025-02-16 16:29:18.472736: I tensorflow/core/util/port.cc:153] oneDNN custom operations are on. You may see slightly different numerical results due to floating-point round-off errors from different computation orders. To turn them off, set the environment variable `TF_ENABLE_ONEDNN_OPTS=0`.\n",
      "2025-02-16 16:29:18.482935: E external/local_xla/xla/stream_executor/cuda/cuda_fft.cc:477] Unable to register cuFFT factory: Attempting to register factory for plugin cuFFT when one has already been registered\n",
      "WARNING: All log messages before absl::InitializeLog() is called are written to STDERR\n",
      "E0000 00:00:1739719758.494777  110821 cuda_dnn.cc:8310] Unable to register cuDNN factory: Attempting to register factory for plugin cuDNN when one has already been registered\n",
      "E0000 00:00:1739719758.497783  110821 cuda_blas.cc:1418] Unable to register cuBLAS factory: Attempting to register factory for plugin cuBLAS when one has already been registered\n",
      "2025-02-16 16:29:18.509043: I tensorflow/core/platform/cpu_feature_guard.cc:210] This TensorFlow binary is optimized to use available CPU instructions in performance-critical operations.\n",
      "To enable the following instructions: AVX2 AVX_VNNI FMA, in other operations, rebuild TensorFlow with the appropriate compiler flags.\n"
     ]
    }
   ],
   "source": [
    "from logging import DEBUG\n",
    "import logging\n",
    "from pathlib import Path\n",
    "from tiny_ball_detector.dataset.tracknet_dataset import TrackNetDataset\n",
    "\n",
    "logger = logging.getLogger(\"FrameGeneratorLogger\")\n",
    "\n",
    "trackNetDataset = TrackNetDataset(\n",
    "    path=Path(\"../data/tennis\"), n_frames=3, logger=logger\n",
    ")"
   ]
  },
  {
   "cell_type": "code",
   "execution_count": 4,
   "metadata": {},
   "outputs": [
    {
     "name": "stderr",
     "output_type": "stream",
     "text": [
      "📌 Number of clips found: 95\n",
      "2025-02-16 16:29:41.093175: I tensorflow/core/framework/local_rendezvous.cc:405] Local rendezvous is aborting with status: OUT_OF_RANGE: End of sequence\n",
      "2025-02-16 16:29:48.165093: I tensorflow/core/framework/local_rendezvous.cc:405] Local rendezvous is aborting with status: OUT_OF_RANGE: End of sequence\n",
      "2025-02-16 16:30:07.826540: I tensorflow/core/framework/local_rendezvous.cc:405] Local rendezvous is aborting with status: OUT_OF_RANGE: End of sequence\n",
      "2025-02-16 16:30:50.427891: I tensorflow/core/framework/local_rendezvous.cc:405] Local rendezvous is aborting with status: OUT_OF_RANGE: End of sequence\n"
     ]
    },
    {
     "name": "stdout",
     "output_type": "stream",
     "text": [
      "6580\n"
     ]
    }
   ],
   "source": [
    "i = 0\n",
    "for _ in trackNetDataset.dataset:\n",
    "    i += 1\n",
    "\n",
    "print(i)"
   ]
  },
  {
   "cell_type": "code",
   "execution_count": 5,
   "metadata": {},
   "outputs": [],
   "source": [
    "from tensorflow.keras import backend as K\n",
    "K.clear_session()\n"
   ]
  },
  {
   "cell_type": "code",
   "execution_count": 11,
   "metadata": {},
   "outputs": [
    {
     "name": "stdout",
     "output_type": "stream",
     "text": [
      "\u001b[1m2194/2194\u001b[0m \u001b[32m━━━━━━━━━━━━━━━━━━━━\u001b[0m\u001b[37m\u001b[0m \u001b[1m468s\u001b[0m 213ms/step - loss: 0.0021\n",
      "Epoch 7/10\n"
     ]
    },
    {
     "name": "stderr",
     "output_type": "stream",
     "text": [
      "2025-02-16 19:23:08.670377: I tensorflow/core/framework/local_rendezvous.cc:424] Local rendezvous recv item cancelled. Key hash: 7309651420809925136\n",
      "📌 Number of clips found: 95\n"
     ]
    },
    {
     "name": "stdout",
     "output_type": "stream",
     "text": [
      "\u001b[1m1553/2194\u001b[0m \u001b[32m━━━━━━━━━━━━━━\u001b[0m\u001b[37m━━━━━━\u001b[0m \u001b[1m2:19\u001b[0m 218ms/step - loss: 0.0020"
     ]
    },
    {
     "name": "stderr",
     "output_type": "stream",
     "text": [
      "2025-02-16 19:28:47.448379: W tensorflow/core/kernels/data/prefetch_autotuner.cc:52] Prefetch autotuner tried to allocate 44236800 bytes after encountering the first element of size 44236800 bytes.This already causes the autotune ram budget to be exceeded. To stay within the ram budget, either increase the ram budget or reduce element size\n"
     ]
    },
    {
     "name": "stdout",
     "output_type": "stream",
     "text": [
      "\u001b[1m1585/2194\u001b[0m \u001b[32m━━━━━━━━━━━━━━\u001b[0m\u001b[37m━━━━━━\u001b[0m \u001b[1m2:12\u001b[0m 218ms/step - loss: 0.0020"
     ]
    },
    {
     "name": "stderr",
     "output_type": "stream",
     "text": [
      "2025-02-16 19:28:54.293311: W tensorflow/core/kernels/data/prefetch_autotuner.cc:52] Prefetch autotuner tried to allocate 44236800 bytes after encountering the first element of size 44236800 bytes.This already causes the autotune ram budget to be exceeded. To stay within the ram budget, either increase the ram budget or reduce element size\n"
     ]
    },
    {
     "name": "stdout",
     "output_type": "stream",
     "text": [
      "\u001b[1m2194/2194\u001b[0m \u001b[32m━━━━━━━━━━━━━━━━━━━━\u001b[0m\u001b[37m\u001b[0m \u001b[1m480s\u001b[0m 219ms/step - loss: 0.0019\n",
      "Epoch 8/10\n"
     ]
    },
    {
     "name": "stderr",
     "output_type": "stream",
     "text": [
      "2025-02-16 19:31:08.419149: I tensorflow/core/framework/local_rendezvous.cc:424] Local rendezvous recv item cancelled. Key hash: 7309651420809925136\n",
      "📌 Number of clips found: 95\n"
     ]
    },
    {
     "name": "stdout",
     "output_type": "stream",
     "text": [
      "\u001b[1m2194/2194\u001b[0m \u001b[32m━━━━━━━━━━━━━━━━━━━━\u001b[0m\u001b[37m\u001b[0m \u001b[1m454s\u001b[0m 207ms/step - loss: 0.0018\n",
      "Epoch 9/10\n"
     ]
    },
    {
     "name": "stderr",
     "output_type": "stream",
     "text": [
      "2025-02-16 19:38:42.759156: I tensorflow/core/framework/local_rendezvous.cc:424] Local rendezvous recv item cancelled. Key hash: 7309651420809925136\n",
      "📌 Number of clips found: 95\n"
     ]
    },
    {
     "name": "stdout",
     "output_type": "stream",
     "text": [
      "\u001b[1m1493/2194\u001b[0m \u001b[32m━━━━━━━━━━━━━\u001b[0m\u001b[37m━━━━━━━\u001b[0m \u001b[1m2:20\u001b[0m 200ms/step - loss: 0.0017"
     ]
    },
    {
     "name": "stderr",
     "output_type": "stream",
     "text": [
      "2025-02-16 19:43:41.830692: W tensorflow/core/kernels/data/prefetch_autotuner.cc:52] Prefetch autotuner tried to allocate 44236800 bytes after encountering the first element of size 44236800 bytes.This already causes the autotune ram budget to be exceeded. To stay within the ram budget, either increase the ram budget or reduce element size\n"
     ]
    },
    {
     "name": "stdout",
     "output_type": "stream",
     "text": [
      "\u001b[1m2194/2194\u001b[0m \u001b[32m━━━━━━━━━━━━━━━━━━━━\u001b[0m\u001b[37m\u001b[0m \u001b[1m449s\u001b[0m 205ms/step - loss: 0.0016\n",
      "Epoch 10/10\n"
     ]
    },
    {
     "name": "stderr",
     "output_type": "stream",
     "text": [
      "2025-02-16 19:46:11.898350: I tensorflow/core/framework/local_rendezvous.cc:424] Local rendezvous recv item cancelled. Key hash: 7309651420809925136\n",
      "📌 Number of clips found: 95\n"
     ]
    },
    {
     "name": "stdout",
     "output_type": "stream",
     "text": [
      "\u001b[1m 334/2194\u001b[0m \u001b[32m━━━\u001b[0m\u001b[37m━━━━━━━━━━━━━━━━━\u001b[0m \u001b[1m6:37\u001b[0m 214ms/step - loss: 0.0016"
     ]
    },
    {
     "name": "stderr",
     "output_type": "stream",
     "text": [
      "2025-02-16 19:47:23.611284: I tensorflow/core/framework/local_rendezvous.cc:405] Local rendezvous is aborting with status: OUT_OF_RANGE: End of sequence\n"
     ]
    },
    {
     "name": "stdout",
     "output_type": "stream",
     "text": [
      "\u001b[1m2194/2194\u001b[0m \u001b[32m━━━━━━━━━━━━━━━━━━━━\u001b[0m\u001b[37m\u001b[0m \u001b[1m479s\u001b[0m 218ms/step - loss: 0.0016\n"
     ]
    },
    {
     "data": {
      "text/plain": [
       "<keras.src.callbacks.history.History at 0x7431fd7b3aa0>"
      ]
     },
     "execution_count": 11,
     "metadata": {},
     "output_type": "execute_result"
    }
   ],
   "source": [
    "from tiny_ball_detector.models import TrackerNet\n",
    "import keras\n",
    "\n",
    "from logging import DEBUG\n",
    "import logging\n",
    "from pathlib import Path\n",
    "from tiny_ball_detector.dataset.tracknet_dataset import TrackNetDataset\n",
    "import tensorflow as tf\n",
    "\n",
    "\n",
    "def resize(image, label):\n",
    "    return (\n",
    "        keras.preprocessing.image.smart_resize(image, (360, 640)),\n",
    "        keras.preprocessing.image.smart_resize(label, (360, 640)),\n",
    "    )\n",
    "\n",
    "\n",
    "logger = logging.getLogger(\"FrameGeneratorLogger\")\n",
    "\n",
    "trackNetDataset = TrackNetDataset(\n",
    "    path=Path(\"../data/tennis\"), n_frames=3, logger=logger\n",
    ")\n",
    "\n",
    "\n",
    "tracknet_model = TrackerNet()\n",
    "\n",
    "tracknet_model.compile(loss=keras.losses.SparseCategoricalCrossentropy())\n",
    "\n",
    "tracknet_model.fit(\n",
    "    trackNetDataset.dataset.map(resize, num_parallel_calls=tf.data.AUTOTUNE)\n",
    "    .batch(3)\n",
    "    .prefetch(tf.data.AUTOTUNE),\n",
    "    epochs=10,\n",
    ")"
   ]
  },
  {
   "cell_type": "code",
   "execution_count": 12,
   "metadata": {},
   "outputs": [],
   "source": [
    "tracknet_model.save('tracknet.keras')"
   ]
  },
  {
   "cell_type": "code",
   "execution_count": 13,
   "metadata": {},
   "outputs": [
    {
     "name": "stderr",
     "output_type": "stream",
     "text": [
      "📌 Number of clips found: 95\n",
      "2025-02-16 19:55:11.140838: W tensorflow/core/kernels/data/prefetch_autotuner.cc:52] Prefetch autotuner tried to allocate 44236800 bytes after encountering the first element of size 44236800 bytes.This already causes the autotune ram budget to be exceeded. To stay within the ram budget, either increase the ram budget or reduce element size\n"
     ]
    }
   ],
   "source": [
    "image, label = next(iter(trackNetDataset.dataset.take(1).map(resize).batch(1)))"
   ]
  },
  {
   "cell_type": "code",
   "execution_count": null,
   "metadata": {},
   "outputs": [
    {
     "data": {
      "text/plain": [
       "<tf.Tensor: shape=(360, 640, 1), dtype=float32, numpy=\n",
       "array([[[0.9995834 ],\n",
       "        [0.9999536 ],\n",
       "        [0.99995565],\n",
       "        ...,\n",
       "        [0.9999453 ],\n",
       "        [0.99994457],\n",
       "        [0.99949694]],\n",
       "\n",
       "       [[0.9999335 ],\n",
       "        [0.9999727 ],\n",
       "        [0.99997294],\n",
       "        ...,\n",
       "        [0.99996114],\n",
       "        [0.9999651 ],\n",
       "        [0.99993336]],\n",
       "\n",
       "       [[0.9999342 ],\n",
       "        [0.9999726 ],\n",
       "        [0.9999726 ],\n",
       "        ...,\n",
       "        [0.99995565],\n",
       "        [0.99996114],\n",
       "        [0.99992955]],\n",
       "\n",
       "       ...,\n",
       "\n",
       "       [[0.9999349 ],\n",
       "        [0.9999722 ],\n",
       "        [0.99997234],\n",
       "        ...,\n",
       "        [0.9999696 ],\n",
       "        [0.99996996],\n",
       "        [0.9999374 ]],\n",
       "\n",
       "       [[0.9999256 ],\n",
       "        [0.9999722 ],\n",
       "        [0.9999721 ],\n",
       "        ...,\n",
       "        [0.9999697 ],\n",
       "        [0.99996984],\n",
       "        [0.9999331 ]],\n",
       "\n",
       "       [[0.9996044 ],\n",
       "        [0.99996006],\n",
       "        [0.99996173],\n",
       "        ...,\n",
       "        [0.999962  ],\n",
       "        [0.99996006],\n",
       "        [0.99974173]]], dtype=float32)>"
      ]
     },
     "execution_count": 15,
     "metadata": {},
     "output_type": "execute_result"
    },
    {
     "ename": "",
     "evalue": "",
     "output_type": "error",
     "traceback": [
      "\u001b[1;31mThe Kernel crashed while executing code in the current cell or a previous cell. \n",
      "\u001b[1;31mPlease review the code in the cell(s) to identify a possible cause of the failure. \n",
      "\u001b[1;31mClick <a href='https://aka.ms/vscodeJupyterKernelCrash'>here</a> for more info. \n",
      "\u001b[1;31mView Jupyter <a href='command:jupyter.viewOutput'>log</a> for further details."
     ]
    }
   ],
   "source": [
    "tf.reduce_max(tracknet_model(image), axis=-1, keepdims=True)[0]"
   ]
  },
  {
   "cell_type": "code",
   "execution_count": 14,
   "metadata": {},
   "outputs": [
    {
     "data": {
      "text/plain": [
       "<matplotlib.image.AxesImage at 0x74320dd49df0>"
      ]
     },
     "execution_count": 14,
     "metadata": {},
     "output_type": "execute_result"
    },
    {
     "data": {
      "image/png": "[encoded data removed]",
      "text/plain": [
       "<Figure size 640x480 with 1 Axes>"
      ]
     },
     "metadata": {},
     "output_type": "display_data"
    }
   ],
   "source": [
    "import matplotlib.pyplot as plt\n",
    "\n",
    "plt.imshow(tf.reduce_max(tracknet_model(image), axis=-1, keepdims=True)[0])"
   ]
  },
  {
   "cell_type": "code",
   "execution_count": null,
   "metadata": {},
   "outputs": [],
   "source": [
    "from PIL import Image\n",
    "import matplotlib.pyplot as plt\n",
    "\n",
    "# Ouvrir l'image depuis un fichier\n",
    "image = Image.open(\n",
    "    \"/home/gaetan/iris/tiny-ball-detector/data/tennis/game6/Clip2/0576.jpg\"\n",
    ")\n",
    "\n",
    "\n",
    "# Afficher l'image avec matplotlib\n",
    "plt.figure(figsize=(20, 20))\n",
    "plt.imshow(image)\n",
    "plt.axvline(x=191, color=\"red\", linestyle=\"--\", linewidth=1)\n",
    "plt.axhline(y=511, color=\"red\", linestyle=\"--\", linewidth=1)\n",
    "plt.axis(\"off\")\n",
    "plt.show()"
   ]
  },
  {
   "cell_type": "code",
   "execution_count": null,
   "metadata": {},
   "outputs": [],
   "source": [
    "import numpy as np\n",
    "\n",
    "a = np.zeros((10, 10))\n",
    "a[5, 6] = 1\n",
    "a"
   ]
  },
  {
   "cell_type": "code",
   "execution_count": null,
   "metadata": {},
   "outputs": [],
   "source": [
    "a[3:8, 4:9]"
   ]
  },
  {
   "cell_type": "code",
   "execution_count": null,
   "metadata": {},
   "outputs": [],
   "source": [
    "for i in data.take(1):\n",
    "    print(i)"
   ]
  },
  {
   "cell_type": "code",
   "execution_count": null,
   "metadata": {},
   "outputs": [],
   "source": [
    "gaussian_kernel_array = create_gaussian(20, 10)\n",
    "gaussian_kernel_array"
   ]
  },
  {
   "cell_type": "code",
   "execution_count": null,
   "metadata": {},
   "outputs": [],
   "source": [
    "for i in data.take(1):\n",
    "    print(i)"
   ]
  }
 ],
 "metadata": {
  "kernelspec": {
   "display_name": "tiny-ball-detector-LtrcJND9-py3.12",
   "language": "python",
   "name": "python3"
  },
  "language_info": {
   "codemirror_mode": {
    "name": "ipython",
    "version": 3
   },
   "file_extension": ".py",
   "mimetype": "text/x-python",
   "name": "python",
   "nbconvert_exporter": "python",
   "pygments_lexer": "ipython3",
   "version": "3.12.3"
  }
 },
 "nbformat": 4,
 "nbformat_minor": 2
}
